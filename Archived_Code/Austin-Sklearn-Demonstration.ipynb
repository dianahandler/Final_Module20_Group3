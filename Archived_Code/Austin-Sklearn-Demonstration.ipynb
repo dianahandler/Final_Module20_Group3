{
 "cells": [
  {
   "cell_type": "code",
   "execution_count": 1,
   "id": "df5fff8b",
   "metadata": {},
   "outputs": [],
   "source": [
    "import pandas as pd\n",
    "import matplotlib.pyplot as plt\n",
    "from sklearn.linear_model import LinearRegression\n",
    "from sklearn.model_selection import train_test_split"
   ]
  },
  {
   "cell_type": "code",
   "execution_count": 2,
   "id": "6b7cca84",
   "metadata": {},
   "outputs": [],
   "source": [
    "## We will use machine learning via Sklean to perform linear regression analysis.\n",
    "## First, we'll import our cleaned, unsplit data for this demonstration. \n",
    "austin = 'https://raw.githubusercontent.com/dianahandler/Final_Module20_Group3/main/autinHousingData_cleaned_nochangecity.csv'\n",
    "df = pd.read_csv(austin)"
   ]
  },
  {
   "cell_type": "code",
   "execution_count": 3,
   "id": "dd52f075",
   "metadata": {
    "scrolled": true
   },
   "outputs": [
    {
     "data": {
      "text/html": [
       "<div>\n",
       "<style scoped>\n",
       "    .dataframe tbody tr th:only-of-type {\n",
       "        vertical-align: middle;\n",
       "    }\n",
       "\n",
       "    .dataframe tbody tr th {\n",
       "        vertical-align: top;\n",
       "    }\n",
       "\n",
       "    .dataframe thead th {\n",
       "        text-align: right;\n",
       "    }\n",
       "</style>\n",
       "<table border=\"1\" class=\"dataframe\">\n",
       "  <thead>\n",
       "    <tr style=\"text-align: right;\">\n",
       "      <th></th>\n",
       "      <th>zpid</th>\n",
       "      <th>city</th>\n",
       "      <th>streetAddress</th>\n",
       "      <th>zipcode</th>\n",
       "      <th>description</th>\n",
       "      <th>latitude</th>\n",
       "      <th>longitude</th>\n",
       "      <th>propertyTaxRate</th>\n",
       "      <th>garageSpaces</th>\n",
       "      <th>hasAssociation</th>\n",
       "      <th>...</th>\n",
       "      <th>avgSchoolRating</th>\n",
       "      <th>avgSchoolSize</th>\n",
       "      <th>MedianStudentsPerTeacher</th>\n",
       "      <th>numOfBathrooms</th>\n",
       "      <th>numOfBedrooms</th>\n",
       "      <th>numOfStories</th>\n",
       "      <th>homeImage</th>\n",
       "      <th>zip_rank</th>\n",
       "      <th>median_zip</th>\n",
       "      <th>pr_sqft</th>\n",
       "    </tr>\n",
       "  </thead>\n",
       "  <tbody>\n",
       "    <tr>\n",
       "      <th>0</th>\n",
       "      <td>111373431</td>\n",
       "      <td>pflugerville</td>\n",
       "      <td>14424 Lake Victor Dr</td>\n",
       "      <td>78660</td>\n",
       "      <td>14424 Lake Victor Dr, Pflugerville, TX 78660 i...</td>\n",
       "      <td>30.430632</td>\n",
       "      <td>-97.663078</td>\n",
       "      <td>1.98</td>\n",
       "      <td>2</td>\n",
       "      <td>1</td>\n",
       "      <td>...</td>\n",
       "      <td>2.666667</td>\n",
       "      <td>1063</td>\n",
       "      <td>14</td>\n",
       "      <td>3.0</td>\n",
       "      <td>4</td>\n",
       "      <td>2</td>\n",
       "      <td>111373431_ffce26843283d3365c11d81b8e6bdc6f-p_f...</td>\n",
       "      <td>8</td>\n",
       "      <td>289500.0</td>\n",
       "      <td>117.0</td>\n",
       "    </tr>\n",
       "    <tr>\n",
       "      <th>1</th>\n",
       "      <td>120900430</td>\n",
       "      <td>pflugerville</td>\n",
       "      <td>1104 Strickling Dr</td>\n",
       "      <td>78660</td>\n",
       "      <td>Absolutely GORGEOUS 4 Bedroom home with 2 full...</td>\n",
       "      <td>30.432673</td>\n",
       "      <td>-97.661697</td>\n",
       "      <td>1.98</td>\n",
       "      <td>2</td>\n",
       "      <td>1</td>\n",
       "      <td>...</td>\n",
       "      <td>2.666667</td>\n",
       "      <td>1063</td>\n",
       "      <td>14</td>\n",
       "      <td>2.0</td>\n",
       "      <td>4</td>\n",
       "      <td>1</td>\n",
       "      <td>120900430_8255c127be8dcf0a1a18b7563d987088-p_f...</td>\n",
       "      <td>8</td>\n",
       "      <td>289500.0</td>\n",
       "      <td>167.0</td>\n",
       "    </tr>\n",
       "    <tr>\n",
       "      <th>2</th>\n",
       "      <td>2084491383</td>\n",
       "      <td>pflugerville</td>\n",
       "      <td>1408 Fort Dessau Rd</td>\n",
       "      <td>78660</td>\n",
       "      <td>Under construction - estimated completion in A...</td>\n",
       "      <td>30.409748</td>\n",
       "      <td>-97.639771</td>\n",
       "      <td>1.98</td>\n",
       "      <td>0</td>\n",
       "      <td>1</td>\n",
       "      <td>...</td>\n",
       "      <td>3.000000</td>\n",
       "      <td>1108</td>\n",
       "      <td>14</td>\n",
       "      <td>2.0</td>\n",
       "      <td>3</td>\n",
       "      <td>1</td>\n",
       "      <td>2084491383_a2ad649e1a7a098111dcea084a11c855-p_...</td>\n",
       "      <td>8</td>\n",
       "      <td>289500.0</td>\n",
       "      <td>173.0</td>\n",
       "    </tr>\n",
       "    <tr>\n",
       "      <th>3</th>\n",
       "      <td>120901374</td>\n",
       "      <td>pflugerville</td>\n",
       "      <td>1025 Strickling Dr</td>\n",
       "      <td>78660</td>\n",
       "      <td>Absolutely darling one story home in charming ...</td>\n",
       "      <td>30.432112</td>\n",
       "      <td>-97.661659</td>\n",
       "      <td>1.98</td>\n",
       "      <td>2</td>\n",
       "      <td>1</td>\n",
       "      <td>...</td>\n",
       "      <td>2.666667</td>\n",
       "      <td>1063</td>\n",
       "      <td>14</td>\n",
       "      <td>2.0</td>\n",
       "      <td>3</td>\n",
       "      <td>1</td>\n",
       "      <td>120901374_b469367a619da85b1f5ceb69b675d88e-p_f...</td>\n",
       "      <td>8</td>\n",
       "      <td>289500.0</td>\n",
       "      <td>143.0</td>\n",
       "    </tr>\n",
       "    <tr>\n",
       "      <th>4</th>\n",
       "      <td>60134862</td>\n",
       "      <td>pflugerville</td>\n",
       "      <td>15005 Donna Jane Loop</td>\n",
       "      <td>78660</td>\n",
       "      <td>Brimming with appeal &amp; warm livability! Sleek ...</td>\n",
       "      <td>30.437368</td>\n",
       "      <td>-97.656860</td>\n",
       "      <td>1.98</td>\n",
       "      <td>0</td>\n",
       "      <td>1</td>\n",
       "      <td>...</td>\n",
       "      <td>4.000000</td>\n",
       "      <td>1223</td>\n",
       "      <td>14</td>\n",
       "      <td>3.0</td>\n",
       "      <td>3</td>\n",
       "      <td>2</td>\n",
       "      <td>60134862_b1a48a3df3f111e005bb913873e98ce2-p_f.jpg</td>\n",
       "      <td>8</td>\n",
       "      <td>289500.0</td>\n",
       "      <td>113.0</td>\n",
       "    </tr>\n",
       "  </tbody>\n",
       "</table>\n",
       "<p>5 rows × 50 columns</p>\n",
       "</div>"
      ],
      "text/plain": [
       "         zpid          city          streetAddress  zipcode  \\\n",
       "0   111373431  pflugerville   14424 Lake Victor Dr    78660   \n",
       "1   120900430  pflugerville     1104 Strickling Dr    78660   \n",
       "2  2084491383  pflugerville    1408 Fort Dessau Rd    78660   \n",
       "3   120901374  pflugerville     1025 Strickling Dr    78660   \n",
       "4    60134862  pflugerville  15005 Donna Jane Loop    78660   \n",
       "\n",
       "                                         description   latitude  longitude  \\\n",
       "0  14424 Lake Victor Dr, Pflugerville, TX 78660 i...  30.430632 -97.663078   \n",
       "1  Absolutely GORGEOUS 4 Bedroom home with 2 full...  30.432673 -97.661697   \n",
       "2  Under construction - estimated completion in A...  30.409748 -97.639771   \n",
       "3  Absolutely darling one story home in charming ...  30.432112 -97.661659   \n",
       "4  Brimming with appeal & warm livability! Sleek ...  30.437368 -97.656860   \n",
       "\n",
       "   propertyTaxRate  garageSpaces  hasAssociation  ...  avgSchoolRating  \\\n",
       "0             1.98             2               1  ...         2.666667   \n",
       "1             1.98             2               1  ...         2.666667   \n",
       "2             1.98             0               1  ...         3.000000   \n",
       "3             1.98             2               1  ...         2.666667   \n",
       "4             1.98             0               1  ...         4.000000   \n",
       "\n",
       "   avgSchoolSize  MedianStudentsPerTeacher  numOfBathrooms  numOfBedrooms  \\\n",
       "0           1063                        14             3.0              4   \n",
       "1           1063                        14             2.0              4   \n",
       "2           1108                        14             2.0              3   \n",
       "3           1063                        14             2.0              3   \n",
       "4           1223                        14             3.0              3   \n",
       "\n",
       "  numOfStories                                          homeImage  zip_rank  \\\n",
       "0            2  111373431_ffce26843283d3365c11d81b8e6bdc6f-p_f...         8   \n",
       "1            1  120900430_8255c127be8dcf0a1a18b7563d987088-p_f...         8   \n",
       "2            1  2084491383_a2ad649e1a7a098111dcea084a11c855-p_...         8   \n",
       "3            1  120901374_b469367a619da85b1f5ceb69b675d88e-p_f...         8   \n",
       "4            2  60134862_b1a48a3df3f111e005bb913873e98ce2-p_f.jpg         8   \n",
       "\n",
       "   median_zip  pr_sqft  \n",
       "0    289500.0    117.0  \n",
       "1    289500.0    167.0  \n",
       "2    289500.0    173.0  \n",
       "3    289500.0    143.0  \n",
       "4    289500.0    113.0  \n",
       "\n",
       "[5 rows x 50 columns]"
      ]
     },
     "execution_count": 3,
     "metadata": {},
     "output_type": "execute_result"
    }
   ],
   "source": [
    "df.head()"
   ]
  },
  {
   "cell_type": "markdown",
   "id": "82f6d1f7",
   "metadata": {},
   "source": [
    "## Pearson correlation coefficient analysis"
   ]
  },
  {
   "cell_type": "markdown",
   "id": "871b9e8d",
   "metadata": {},
   "source": [
    "As the above dataframes show, there are more than 40 features to consider in predicting property prices. With correlation analysis, as mentioned in 15.7.1 (2021), we can generate Pearson correlation coefficients to better determine numerically how each feature is related to those prices. To do this with dataframe columns, we will need corr(), which happens to generate Pearson correlation coefficients by default ('pandas.DataFrame.corr', 2021).\n",
    "\n",
    "Source: https://pandas.pydata.org/pandas-docs/stable/reference/api/pandas.DataFrame.corr.html"
   ]
  },
  {
   "cell_type": "markdown",
   "id": "c5f3616c",
   "metadata": {},
   "source": [
    "We should also note that this correlation analysis has been conducted elsewhere in the group repository, but only as a demonstration. We will be recreating this process here since it is key for our later regression analysis.\n",
    "\n",
    "Source: https://github.com/dianahandler/Final_Module20_Group3/commit/7c2f33ca7364dfbb40c21b7be7651fa2b5ad51de?branch=7c2f33ca7364dfbb40c21b7be7651fa2b5ad51de#diff-1c8bade9d6a619027f877dbf242cf157c76dbcd45194479d71bc5e565ffa1a09"
   ]
  },
  {
   "cell_type": "code",
   "execution_count": 4,
   "id": "c08e9be6",
   "metadata": {},
   "outputs": [
    {
     "name": "stdout",
     "output_type": "stream",
     "text": [
      "<class 'pandas.core.frame.DataFrame'>\n",
      "RangeIndex: 12933 entries, 0 to 12932\n",
      "Data columns (total 50 columns):\n",
      " #   Column                    Non-Null Count  Dtype  \n",
      "---  ------                    --------------  -----  \n",
      " 0   zpid                      12933 non-null  int64  \n",
      " 1   city                      12933 non-null  object \n",
      " 2   streetAddress             12933 non-null  object \n",
      " 3   zipcode                   12933 non-null  int64  \n",
      " 4   description               12933 non-null  object \n",
      " 5   latitude                  12933 non-null  float64\n",
      " 6   longitude                 12933 non-null  float64\n",
      " 7   propertyTaxRate           12933 non-null  float64\n",
      " 8   garageSpaces              12933 non-null  int64  \n",
      " 9   hasAssociation            12933 non-null  int64  \n",
      " 10  hasCooling                12933 non-null  int64  \n",
      " 11  hasGarage                 12933 non-null  int64  \n",
      " 12  hasHeating                12933 non-null  int64  \n",
      " 13  hasSpa                    12933 non-null  int64  \n",
      " 14  hasView                   12933 non-null  int64  \n",
      " 15  homeType                  12933 non-null  object \n",
      " 16  parkingSpaces             12933 non-null  int64  \n",
      " 17  yearBuilt                 12933 non-null  int64  \n",
      " 18  latestPrice               12933 non-null  float64\n",
      " 19  numPriceChanges           12933 non-null  int64  \n",
      " 20  latest_saledate           12933 non-null  object \n",
      " 21  latest_salemonth          12933 non-null  int64  \n",
      " 22  latest_saleyear           12933 non-null  int64  \n",
      " 23  latestPriceSource         12933 non-null  object \n",
      " 24  numOfPhotos               12933 non-null  int64  \n",
      " 25  accessibility             12933 non-null  int64  \n",
      " 26  numOfAppliances           12933 non-null  int64  \n",
      " 27  numOfParkingFeatures      12933 non-null  int64  \n",
      " 28  patioporch                12933 non-null  int64  \n",
      " 29  security                  12933 non-null  int64  \n",
      " 30  waterfront                12933 non-null  int64  \n",
      " 31  windowfeatures            12933 non-null  int64  \n",
      " 32  community                 12933 non-null  int64  \n",
      " 33  lotSizeSqFt               12933 non-null  float64\n",
      " 34  livingAreaSqFt            12933 non-null  float64\n",
      " 35  numOfPrimarySchools       12933 non-null  int64  \n",
      " 36  numOfElementarySchools    12933 non-null  int64  \n",
      " 37  numOfMiddleSchools        12933 non-null  int64  \n",
      " 38  numOfHighSchools          12933 non-null  int64  \n",
      " 39  avgSchoolDistance         12933 non-null  float64\n",
      " 40  avgSchoolRating           12933 non-null  float64\n",
      " 41  avgSchoolSize             12933 non-null  int64  \n",
      " 42  MedianStudentsPerTeacher  12933 non-null  int64  \n",
      " 43  numOfBathrooms            12933 non-null  float64\n",
      " 44  numOfBedrooms             12933 non-null  int64  \n",
      " 45  numOfStories              12933 non-null  int64  \n",
      " 46  homeImage                 12933 non-null  object \n",
      " 47  zip_rank                  12933 non-null  int64  \n",
      " 48  median_zip                12933 non-null  float64\n",
      " 49  pr_sqft                   12933 non-null  float64\n",
      "dtypes: float64(11), int64(32), object(7)\n",
      "memory usage: 4.9+ MB\n"
     ]
    }
   ],
   "source": [
    "## Let's look at the column names for future reference.\n",
    "df.info()"
   ]
  },
  {
   "cell_type": "code",
   "execution_count": 5,
   "id": "43548644",
   "metadata": {},
   "outputs": [
    {
     "data": {
      "text/plain": [
       "0    Coldwell Banker United, Realtors - South Austin\n",
       "1                                     Agent Provided\n",
       "2                                     Agent Provided\n",
       "3                                     Agent Provided\n",
       "4                                     Agent Provided\n",
       "5                                    Broker Provided\n",
       "6                                    Broker Provided\n",
       "7                                     Agent Provided\n",
       "8                                     Agent Provided\n",
       "9                                     Agent Provided\n",
       "Name: latestPriceSource, dtype: object"
      ]
     },
     "execution_count": 5,
     "metadata": {},
     "output_type": "execute_result"
    }
   ],
   "source": [
    "df['latestPriceSource'].head(10)"
   ]
  },
  {
   "cell_type": "markdown",
   "id": "9f6031ca",
   "metadata": {},
   "source": [
    "While most of the data is numerical, we do find 7 columns of non-numerical data: city, streetAddress, description, hometype, latest saledate, latestPriceSource, and homeImage. \n",
    "\n",
    "We will certainly convert city names and hometypes, since we want to know the impact of home type or city location on price values. \n",
    "\n",
    "Price source also might be a factor, considering that perhaps more established and reputable price providers may charge slightly more than other providers. \n",
    "\n",
    "While the looks of a house may influence pricing (i.e. how subjectively good it looks), we definitely feel that home image url's aren't good indicators of price to a machine, unless our machine can read those url's and judge the quality of thousands of homes based on their respective images. Especially with the scope of our project, where we feed numerical data into a machine learning model to arrive at some output.\n",
    "\n",
    "While we don't have a solid reason to consider latest sale date, street address, and house description as a factors for pricing, we don't have any reason to reject them either."
   ]
  },
  {
   "cell_type": "code",
   "execution_count": 6,
   "id": "44599a80",
   "metadata": {},
   "outputs": [],
   "source": [
    "## From 17.6.2 (2021), we can use sklearn's LabelEncoder to convert strings into numbered data for our\n",
    "## machine learning model to interpret easier.\n",
    "from sklearn.preprocessing import LabelEncoder\n",
    "le = LabelEncoder()\n",
    "## We'll store our encoded results in a new dataframe 'df1'\n",
    "df1 = df.copy()\n",
    "df1['city'] = le.fit_transform(df1['city'])\n",
    "df1['streetAddress'] = le.fit_transform(df1['streetAddress'])\n",
    "df1['homeType'] = le.fit_transform(df1['homeType'])\n",
    "df1['latestPriceSource'] = le.fit_transform(df1['latestPriceSource'])\n",
    "df1['description'] = le.fit_transform(df1['description'])"
   ]
  },
  {
   "cell_type": "code",
   "execution_count": 7,
   "id": "7369307b",
   "metadata": {},
   "outputs": [
    {
     "data": {
      "text/plain": [
       "zpid             0.010168\n",
       "city            -0.064157\n",
       "streetAddress   -0.031023\n",
       "zipcode         -0.238276\n",
       "description      0.005282\n",
       "Name: latestPrice, dtype: float64"
      ]
     },
     "execution_count": 7,
     "metadata": {},
     "output_type": "execute_result"
    }
   ],
   "source": [
    "## Now that we encoded our label string data, it's time for correlation analysis.\n",
    "## For this project, 'latestPrice' is our output we want to predict. So for our corr() function,\n",
    "## we will only need to look at the 'latestPrice' column of the outputted correlation dataframe.\n",
    "correlations = df1.corr()['latestPrice']\n",
    "correlations.head()"
   ]
  },
  {
   "cell_type": "code",
   "execution_count": 8,
   "id": "0805ed11",
   "metadata": {
    "scrolled": true
   },
   "outputs": [
    {
     "data": {
      "text/plain": [
       "latestPrice                 1.000000\n",
       "median_zip                  0.730931\n",
       "zip_rank                    0.691525\n",
       "pr_sqft                     0.576027\n",
       "livingAreaSqFt              0.496778\n",
       "numOfBathrooms              0.412107\n",
       "avgSchoolRating             0.384555\n",
       "lotSizeSqFt                 0.296135\n",
       "MedianStudentsPerTeacher    0.285408\n",
       "numOfBedrooms               0.270606\n",
       "numOfStories                0.208965\n",
       "numOfPhotos                 0.160217\n",
       "garageSpaces                0.129184\n",
       "parkingSpaces               0.121176\n",
       "numOfParkingFeatures        0.111064\n",
       "numOfElementarySchools      0.105525\n",
       "hasView                     0.102876\n",
       "hasSpa                      0.102659\n",
       "hasGarage                   0.093460\n",
       "latitude                    0.085285\n",
       "numOfMiddleSchools          0.084401\n",
       "patioporch                  0.080889\n",
       "latest_saleyear             0.078021\n",
       "windowfeatures              0.075416\n",
       "avgSchoolSize               0.068801\n",
       "latestPriceSource           0.060768\n",
       "security                    0.054198\n",
       "numOfAppliances             0.041193\n",
       "latest_salemonth            0.040313\n",
       "accessibility               0.037509\n",
       "hasHeating                  0.028436\n",
       "waterfront                  0.026598\n",
       "hasCooling                  0.026318\n",
       "homeType                    0.023222\n",
       "numPriceChanges             0.012694\n",
       "zpid                        0.010168\n",
       "description                 0.005282\n",
       "community                  -0.005751\n",
       "streetAddress              -0.031023\n",
       "propertyTaxRate            -0.059908\n",
       "yearBuilt                  -0.063956\n",
       "city                       -0.064157\n",
       "hasAssociation             -0.093080\n",
       "avgSchoolDistance          -0.096284\n",
       "numOfPrimarySchools        -0.141049\n",
       "longitude                  -0.198968\n",
       "numOfHighSchools           -0.207831\n",
       "zipcode                    -0.238276\n",
       "Name: latestPrice, dtype: float64"
      ]
     },
     "execution_count": 8,
     "metadata": {},
     "output_type": "execute_result"
    }
   ],
   "source": [
    "## Looking at this series of coefficients, we can sort them in descending order to evaluate them better.\n",
    "correlations.sort_values(ascending=False)"
   ]
  },
  {
   "cell_type": "markdown",
   "id": "b8037ac3",
   "metadata": {},
   "source": [
    "With reference to 15.7.1 (2021), we'll pay particular attention to coefficients with magnitudes of at least 0.5, which indicate at least moderate correlation to 'latestPrice'. Preferrably, we'd want to look at magnitude 0.7 or higher coefficients for strong correlation."
   ]
  },
  {
   "cell_type": "markdown",
   "id": "0361b986",
   "metadata": {},
   "source": [
    "By this reference, only 3 features are found to be at least moderately correlated to price: median_zip,\n",
    "zip_rank, and pr_sqft. However, that's because those features are dependent on 'latestPrice' data, as seen in the below code: \n",
    "#### pr_sqft\n",
    "df['pr_sqft'] = df.apply(lambda x: round( (x['latestPrice'] / x['livingAreaSqFt'] ), 0), axis=1 )\n",
    "\n",
    "#### median_zip\n",
    "df['median_zip'] = df['zipcode'].apply(lambda x: round(df.loc[df['zipcode']==x]['latestPrice'].median(), 0))\n",
    "\n",
    "#### zip_rank\n",
    "zipsorted = pd.DataFrame(df.groupby('zipcode')['latestPrice'].median().sort_values(ascending=True)\n",
    "zipsorted['rank'] = np.divmod(np.arange(len(zipsorted)), 1)[0]+1\n",
    "df['zip_rank'] = df['zipcode'].apply(lambda x: make_group(x, zipsorted, 'rank'))\n",
    "\n",
    "Source: https://github.com/dianahandler/Final_Module20_Group3/blob/main/Housing_Price_Data.ipynb"
   ]
  },
  {
   "cell_type": "markdown",
   "id": "8d2ddf70",
   "metadata": {},
   "source": [
    "Given this dependence on our output variable, we have some doubts over using these top 3 features. After some further thought, however, we could still use pr_sqft in our analysis, seeing as some housebuyers may want to maximize the amount of living space within their budget. Same goes for zip_rank, in that maybe there are some zip codes in Austin that are more attractive for prospective buyers than others."
   ]
  },
  {
   "cell_type": "markdown",
   "id": "6aa7885f",
   "metadata": {},
   "source": [
    "Moving on from moderate correlation, we have these top 3 \"weakly\" correlated features: livingAreaSqFt (about 0.4968), numOfBathrooms (about 0.4121), and avgSchoolRating (about 0.3846). We also have a plethora of features with coefficient magnitudes of less than 0.3, while are considered to be \"very weakly\" correlated (15.7.1, 2021) to pricing. Despite this, seeing that the vast majority of pricing features fall outside of 'moderate' correlation, we cannot simpy rule them out of our in-depth analysis."
   ]
  },
  {
   "cell_type": "markdown",
   "id": "a15d2ebe",
   "metadata": {},
   "source": [
    "For demonstration sake, however, we will use the top 10 correlated features with respect to pricing for our machine learning predictions. In subsequent runs, we will look to input more applicable features and perhaps use other machine learning processes to produce our final predictions."
   ]
  },
  {
   "cell_type": "code",
   "execution_count": 9,
   "id": "3f0dae3c",
   "metadata": {
    "scrolled": false
   },
   "outputs": [
    {
     "data": {
      "text/html": [
       "<div>\n",
       "<style scoped>\n",
       "    .dataframe tbody tr th:only-of-type {\n",
       "        vertical-align: middle;\n",
       "    }\n",
       "\n",
       "    .dataframe tbody tr th {\n",
       "        vertical-align: top;\n",
       "    }\n",
       "\n",
       "    .dataframe thead th {\n",
       "        text-align: right;\n",
       "    }\n",
       "</style>\n",
       "<table border=\"1\" class=\"dataframe\">\n",
       "  <thead>\n",
       "    <tr style=\"text-align: right;\">\n",
       "      <th></th>\n",
       "      <th>median_zip</th>\n",
       "      <th>zip_rank</th>\n",
       "      <th>pr_sqft</th>\n",
       "      <th>livingAreaSqFt</th>\n",
       "      <th>numOfBathrooms</th>\n",
       "      <th>avgSchoolRating</th>\n",
       "      <th>lotSizeSqFt</th>\n",
       "      <th>MedianStudentsPerTeacher</th>\n",
       "      <th>numOfBedrooms</th>\n",
       "      <th>numOfStories</th>\n",
       "    </tr>\n",
       "  </thead>\n",
       "  <tbody>\n",
       "    <tr>\n",
       "      <th>0</th>\n",
       "      <td>289500.0</td>\n",
       "      <td>8</td>\n",
       "      <td>117.0</td>\n",
       "      <td>2601.0</td>\n",
       "      <td>3.0</td>\n",
       "      <td>2.666667</td>\n",
       "      <td>6011.0</td>\n",
       "      <td>14</td>\n",
       "      <td>4</td>\n",
       "      <td>2</td>\n",
       "    </tr>\n",
       "    <tr>\n",
       "      <th>1</th>\n",
       "      <td>289500.0</td>\n",
       "      <td>8</td>\n",
       "      <td>167.0</td>\n",
       "      <td>1768.0</td>\n",
       "      <td>2.0</td>\n",
       "      <td>2.666667</td>\n",
       "      <td>6185.0</td>\n",
       "      <td>14</td>\n",
       "      <td>4</td>\n",
       "      <td>1</td>\n",
       "    </tr>\n",
       "    <tr>\n",
       "      <th>2</th>\n",
       "      <td>289500.0</td>\n",
       "      <td>8</td>\n",
       "      <td>173.0</td>\n",
       "      <td>1478.0</td>\n",
       "      <td>2.0</td>\n",
       "      <td>3.000000</td>\n",
       "      <td>7840.0</td>\n",
       "      <td>14</td>\n",
       "      <td>3</td>\n",
       "      <td>1</td>\n",
       "    </tr>\n",
       "    <tr>\n",
       "      <th>3</th>\n",
       "      <td>289500.0</td>\n",
       "      <td>8</td>\n",
       "      <td>143.0</td>\n",
       "      <td>1678.0</td>\n",
       "      <td>2.0</td>\n",
       "      <td>2.666667</td>\n",
       "      <td>6098.0</td>\n",
       "      <td>14</td>\n",
       "      <td>3</td>\n",
       "      <td>1</td>\n",
       "    </tr>\n",
       "    <tr>\n",
       "      <th>4</th>\n",
       "      <td>289500.0</td>\n",
       "      <td>8</td>\n",
       "      <td>113.0</td>\n",
       "      <td>2132.0</td>\n",
       "      <td>3.0</td>\n",
       "      <td>4.000000</td>\n",
       "      <td>6708.0</td>\n",
       "      <td>14</td>\n",
       "      <td>3</td>\n",
       "      <td>2</td>\n",
       "    </tr>\n",
       "  </tbody>\n",
       "</table>\n",
       "</div>"
      ],
      "text/plain": [
       "   median_zip  zip_rank  pr_sqft  livingAreaSqFt  numOfBathrooms  \\\n",
       "0    289500.0         8    117.0          2601.0             3.0   \n",
       "1    289500.0         8    167.0          1768.0             2.0   \n",
       "2    289500.0         8    173.0          1478.0             2.0   \n",
       "3    289500.0         8    143.0          1678.0             2.0   \n",
       "4    289500.0         8    113.0          2132.0             3.0   \n",
       "\n",
       "   avgSchoolRating  lotSizeSqFt  MedianStudentsPerTeacher  numOfBedrooms  \\\n",
       "0         2.666667       6011.0                        14              4   \n",
       "1         2.666667       6185.0                        14              4   \n",
       "2         3.000000       7840.0                        14              3   \n",
       "3         2.666667       6098.0                        14              3   \n",
       "4         4.000000       6708.0                        14              3   \n",
       "\n",
       "   numOfStories  \n",
       "0             2  \n",
       "1             1  \n",
       "2             1  \n",
       "3             1  \n",
       "4             2  "
      ]
     },
     "execution_count": 9,
     "metadata": {},
     "output_type": "execute_result"
    }
   ],
   "source": [
    "## We'll prepare our demonstration input data by isolating our dataframe's top 10 correlated columns\n",
    "X_demo = df1[['median_zip', 'zip_rank', 'pr_sqft', 'livingAreaSqFt', 'numOfBathrooms', 'avgSchoolRating', 'lotSizeSqFt', \n",
    "              'MedianStudentsPerTeacher', 'numOfBedrooms', 'numOfStories']]\n",
    "X_demo.head()"
   ]
  },
  {
   "cell_type": "code",
   "execution_count": 10,
   "id": "c17e35c8",
   "metadata": {
    "scrolled": true
   },
   "outputs": [],
   "source": [
    "## Our output data will simply be our price data.\n",
    "y_demo = df1['latestPrice']"
   ]
  },
  {
   "cell_type": "code",
   "execution_count": 11,
   "id": "bc19027c",
   "metadata": {},
   "outputs": [],
   "source": [
    "## Now we can split our demo data into training and testing data, as we've done in\n",
    "## 17.3.1 (2021). \n",
    "X_train_demo, X_test_demo, y_train_demo, y_test_demo = train_test_split(X_demo,\n",
    "y_demo, random_state=1)\n",
    "## Let's look at the dimensions of our training and testing data."
   ]
  },
  {
   "cell_type": "code",
   "execution_count": 12,
   "id": "2afe16b0",
   "metadata": {},
   "outputs": [
    {
     "data": {
      "text/plain": [
       "(9699, 10)"
      ]
     },
     "execution_count": 12,
     "metadata": {},
     "output_type": "execute_result"
    }
   ],
   "source": [
    "X_train_demo.shape"
   ]
  },
  {
   "cell_type": "code",
   "execution_count": 13,
   "id": "ccbd7fc5",
   "metadata": {},
   "outputs": [
    {
     "data": {
      "text/plain": [
       "(3234, 10)"
      ]
     },
     "execution_count": 13,
     "metadata": {},
     "output_type": "execute_result"
    }
   ],
   "source": [
    "X_test_demo.shape"
   ]
  },
  {
   "cell_type": "code",
   "execution_count": 14,
   "id": "f59e19a0",
   "metadata": {},
   "outputs": [
    {
     "data": {
      "text/plain": [
       "(9699,)"
      ]
     },
     "execution_count": 14,
     "metadata": {},
     "output_type": "execute_result"
    }
   ],
   "source": [
    "y_train_demo.shape"
   ]
  },
  {
   "cell_type": "code",
   "execution_count": 15,
   "id": "73f610d6",
   "metadata": {},
   "outputs": [
    {
     "data": {
      "text/plain": [
       "(3234,)"
      ]
     },
     "execution_count": 15,
     "metadata": {},
     "output_type": "execute_result"
    }
   ],
   "source": [
    "y_test_demo.shape"
   ]
  },
  {
   "cell_type": "code",
   "execution_count": 16,
   "id": "1156bac7",
   "metadata": {},
   "outputs": [],
   "source": [
    "## We see that our testing data has 3,234 samples while our training data has 9,699 samples.\n",
    "## Compared to the over 12,000 entries of Austin housing data, our testing and training data\n",
    "## will be easier for our linear regression model to handle."
   ]
  },
  {
   "cell_type": "code",
   "execution_count": 17,
   "id": "08f68122",
   "metadata": {},
   "outputs": [
    {
     "data": {
      "text/plain": [
       "LinearRegression()"
      ]
     },
     "execution_count": 17,
     "metadata": {},
     "output_type": "execute_result"
    }
   ],
   "source": [
    "## Like we've done in 17.2.3 (2021), we'll use the training data to train our \n",
    "## Sklearn linear regression model.\n",
    "model = LinearRegression()\n",
    "model.fit(X_train_demo, y_train_demo)"
   ]
  },
  {
   "cell_type": "code",
   "execution_count": 18,
   "id": "72338002",
   "metadata": {},
   "outputs": [],
   "source": [
    "## With our model ready, we'll use it to predict prices using testing data, similar to what\n",
    "## we've done in 17.3.1 (2021).\n",
    "y_pred_demo = model.predict(X_test_demo) "
   ]
  },
  {
   "cell_type": "code",
   "execution_count": 19,
   "id": "59ea78ff",
   "metadata": {},
   "outputs": [
    {
     "data": {
      "text/plain": [
       "array([626573.11338496, 330472.21590708, 308811.69135354, ...,\n",
       "       584154.77242535, 310513.11634789, 330179.13460169])"
      ]
     },
     "execution_count": 19,
     "metadata": {},
     "output_type": "execute_result"
    }
   ],
   "source": [
    "## W\n",
    "y_pred_demo"
   ]
  },
  {
   "cell_type": "code",
   "execution_count": 20,
   "id": "3a1624a3",
   "metadata": {},
   "outputs": [
    {
     "data": {
      "text/plain": [
       "1253      725000.0\n",
       "7214      365000.0\n",
       "1739      315000.0\n",
       "5550      240000.0\n",
       "12118     254900.0\n",
       "           ...    \n",
       "11741    1399999.0\n",
       "10243     349900.0\n",
       "12781     625000.0\n",
       "4411      300000.0\n",
       "3374      304999.0\n",
       "Name: latestPrice, Length: 3234, dtype: float64"
      ]
     },
     "execution_count": 20,
     "metadata": {},
     "output_type": "execute_result"
    }
   ],
   "source": [
    "y_test_demo"
   ]
  },
  {
   "cell_type": "code",
   "execution_count": 21,
   "id": "bc2c32bd",
   "metadata": {},
   "outputs": [
    {
     "data": {
      "text/html": [
       "<div>\n",
       "<style scoped>\n",
       "    .dataframe tbody tr th:only-of-type {\n",
       "        vertical-align: middle;\n",
       "    }\n",
       "\n",
       "    .dataframe tbody tr th {\n",
       "        vertical-align: top;\n",
       "    }\n",
       "\n",
       "    .dataframe thead th {\n",
       "        text-align: right;\n",
       "    }\n",
       "</style>\n",
       "<table border=\"1\" class=\"dataframe\">\n",
       "  <thead>\n",
       "    <tr style=\"text-align: right;\">\n",
       "      <th></th>\n",
       "      <th>Prediction</th>\n",
       "      <th>Actual test</th>\n",
       "    </tr>\n",
       "  </thead>\n",
       "  <tbody>\n",
       "    <tr>\n",
       "      <th>1253</th>\n",
       "      <td>626573.113385</td>\n",
       "      <td>725000.0</td>\n",
       "    </tr>\n",
       "    <tr>\n",
       "      <th>7214</th>\n",
       "      <td>330472.215907</td>\n",
       "      <td>365000.0</td>\n",
       "    </tr>\n",
       "    <tr>\n",
       "      <th>1739</th>\n",
       "      <td>308811.691354</td>\n",
       "      <td>315000.0</td>\n",
       "    </tr>\n",
       "    <tr>\n",
       "      <th>5550</th>\n",
       "      <td>227614.145424</td>\n",
       "      <td>240000.0</td>\n",
       "    </tr>\n",
       "    <tr>\n",
       "      <th>12118</th>\n",
       "      <td>366719.778330</td>\n",
       "      <td>254900.0</td>\n",
       "    </tr>\n",
       "  </tbody>\n",
       "</table>\n",
       "</div>"
      ],
      "text/plain": [
       "          Prediction  Actual test\n",
       "1253   626573.113385     725000.0\n",
       "7214   330472.215907     365000.0\n",
       "1739   308811.691354     315000.0\n",
       "5550   227614.145424     240000.0\n",
       "12118  366719.778330     254900.0"
      ]
     },
     "execution_count": 21,
     "metadata": {},
     "output_type": "execute_result"
    }
   ],
   "source": [
    "testing = pd.DataFrame({'Prediction': y_pred_demo, 'Actual test': y_test_demo})\n",
    "testing.head()"
   ]
  },
  {
   "cell_type": "code",
   "execution_count": 22,
   "id": "a6af8f41",
   "metadata": {},
   "outputs": [
    {
     "data": {
      "text/plain": [
       "725000.0"
      ]
     },
     "execution_count": 22,
     "metadata": {},
     "output_type": "execute_result"
    }
   ],
   "source": [
    "y_demo.iloc[1253]"
   ]
  },
  {
   "cell_type": "code",
   "execution_count": 23,
   "id": "4f2601f8",
   "metadata": {},
   "outputs": [],
   "source": [
    "## Notice that our testing output data includes indices that reference data from our original\n",
    "## demo output data."
   ]
  },
  {
   "cell_type": "code",
   "execution_count": 24,
   "id": "dd648cd5",
   "metadata": {},
   "outputs": [
    {
     "data": {
      "text/html": [
       "<div>\n",
       "<style scoped>\n",
       "    .dataframe tbody tr th:only-of-type {\n",
       "        vertical-align: middle;\n",
       "    }\n",
       "\n",
       "    .dataframe tbody tr th {\n",
       "        vertical-align: top;\n",
       "    }\n",
       "\n",
       "    .dataframe thead th {\n",
       "        text-align: right;\n",
       "    }\n",
       "</style>\n",
       "<table border=\"1\" class=\"dataframe\">\n",
       "  <thead>\n",
       "    <tr style=\"text-align: right;\">\n",
       "      <th></th>\n",
       "      <th>Prediction</th>\n",
       "      <th>Actual test</th>\n",
       "      <th>Raw Error</th>\n",
       "    </tr>\n",
       "  </thead>\n",
       "  <tbody>\n",
       "    <tr>\n",
       "      <th>1253</th>\n",
       "      <td>626573.113385</td>\n",
       "      <td>725000.0</td>\n",
       "      <td>-98426.886615</td>\n",
       "    </tr>\n",
       "    <tr>\n",
       "      <th>7214</th>\n",
       "      <td>330472.215907</td>\n",
       "      <td>365000.0</td>\n",
       "      <td>-34527.784093</td>\n",
       "    </tr>\n",
       "    <tr>\n",
       "      <th>1739</th>\n",
       "      <td>308811.691354</td>\n",
       "      <td>315000.0</td>\n",
       "      <td>-6188.308646</td>\n",
       "    </tr>\n",
       "    <tr>\n",
       "      <th>5550</th>\n",
       "      <td>227614.145424</td>\n",
       "      <td>240000.0</td>\n",
       "      <td>-12385.854576</td>\n",
       "    </tr>\n",
       "    <tr>\n",
       "      <th>12118</th>\n",
       "      <td>366719.778330</td>\n",
       "      <td>254900.0</td>\n",
       "      <td>111819.778330</td>\n",
       "    </tr>\n",
       "  </tbody>\n",
       "</table>\n",
       "</div>"
      ],
      "text/plain": [
       "          Prediction  Actual test      Raw Error\n",
       "1253   626573.113385     725000.0  -98426.886615\n",
       "7214   330472.215907     365000.0  -34527.784093\n",
       "1739   308811.691354     315000.0   -6188.308646\n",
       "5550   227614.145424     240000.0  -12385.854576\n",
       "12118  366719.778330     254900.0  111819.778330"
      ]
     },
     "execution_count": 24,
     "metadata": {},
     "output_type": "execute_result"
    }
   ],
   "source": [
    "## To gauge the model's predictive accuracy, we can start by calculating the deviation between \n",
    "## predicted and actual test values.\n",
    "testing['Raw Error'] = (testing['Prediction'] - testing['Actual test'])\n",
    "testing.head()"
   ]
  },
  {
   "cell_type": "code",
   "execution_count": 25,
   "id": "2d1fa694",
   "metadata": {},
   "outputs": [
    {
     "name": "stdout",
     "output_type": "stream",
     "text": [
      "5101588574.185439\n"
     ]
    }
   ],
   "source": [
    "## We are looking to measure mean squared error (MSE) as one way to gauge our regression \n",
    "## model's accuracy, as suggested here: https://stats.stackexchange.com/questions/142873/how-to-determine-the-accuracy-of-regression-which-measure-should-be-used\n",
    "## A quick way to calculate MSE is with sklearn metrics, as seen here:\n",
    "## https://www.pythonpool.com/mean-squared-error-python/\n",
    "from sklearn.metrics import mean_squared_error\n",
    "mean_squared_error(testing['Actual test'], testing['Prediction'])\n",
    "print(mean_squared_error(testing['Actual test'], testing['Prediction']))"
   ]
  },
  {
   "cell_type": "code",
   "execution_count": 26,
   "id": "b9fd9f10",
   "metadata": {},
   "outputs": [
    {
     "name": "stdout",
     "output_type": "stream",
     "text": [
      "5101588574.185439\n"
     ]
    }
   ],
   "source": [
    "## Double checking the math, by passing lists of actual and predicted values into\n",
    "## the MSE metric function:\n",
    "Pred_list = testing['Prediction'].to_list()\n",
    "AT_list = testing['Actual test'].to_list()\n",
    "mean_squared_error(AT_list, Pred_list)\n",
    "print(mean_squared_error(AT_list, Pred_list))"
   ]
  },
  {
   "cell_type": "code",
   "execution_count": 27,
   "id": "edf1411f",
   "metadata": {},
   "outputs": [
    {
     "name": "stdout",
     "output_type": "stream",
     "text": [
      "71425.40566342931\n"
     ]
    }
   ],
   "source": [
    "## From the MSE, we can calculate root MSE by setting the squared parameter to 'false'.\n",
    "RootMSE = mean_squared_error(AT_list, Pred_list, squared=False)\n",
    "print(RootMSE)"
   ]
  },
  {
   "cell_type": "code",
   "execution_count": 28,
   "id": "f67f130d",
   "metadata": {},
   "outputs": [
    {
     "name": "stdout",
     "output_type": "stream",
     "text": [
      "46144.81263357394\n"
     ]
    }
   ],
   "source": [
    "## Another metric we can calculate is mean absolute error (MAE)\n",
    "from sklearn.metrics import mean_absolute_error\n",
    "MAE = mean_absolute_error(AT_list, Pred_list)\n",
    "print(MAE)"
   ]
  },
  {
   "cell_type": "code",
   "execution_count": 29,
   "id": "002d9b8b",
   "metadata": {},
   "outputs": [
    {
     "data": {
      "image/png": "[encoded data removed]",
      "text/plain": [
       "<Figure size 432x288 with 1 Axes>"
      ]
     },
     "metadata": {
      "needs_background": "light"
     },
     "output_type": "display_data"
    }
   ],
   "source": [
    "## We can also plot the test data against the predicted models.\n",
    "## For comparison, we'll plot a straight line with a slope of 1, such that\n",
    "## the line's x and y values are the same.\n",
    "## In theory, if a predicted data point equals the corresponding actual point,\n",
    "## they'll lie directly on our straight line. Hence, with reference to the straight line,\n",
    "## we can see for ourselves how close predicted values are to their actual values.\n",
    "plt.scatter(y_pred_demo, y_test_demo) \n",
    "plt.plot([1, 1400000], [1, 1400000], color='black')\n",
    "plt.xlabel('Predicted test values')\n",
    "plt.ylabel('Actual test values')\n",
    "plt.show()"
   ]
  },
  {
   "cell_type": "code",
   "execution_count": null,
   "id": "228a4949",
   "metadata": {},
   "outputs": [],
   "source": []
  }
 ],
 "metadata": {
  "kernelspec": {
   "display_name": "mlenv",
   "language": "python",
   "name": "mlenv"
  },
  "language_info": {
   "codemirror_mode": {
    "name": "ipython",
    "version": 3
   },
   "file_extension": ".py",
   "mimetype": "text/x-python",
   "name": "python",
   "nbconvert_exporter": "python",
   "pygments_lexer": "ipython3",
   "version": "3.7.10"
  }
 },
 "nbformat": 4,
 "nbformat_minor": 5
}
